{
  "nbformat": 4,
  "nbformat_minor": 0,
  "metadata": {
    "colab": {
      "name": "seorim.ipynb",
      "provenance": [],
      "collapsed_sections": [],
      "authorship_tag": "ABX9TyNET2diNxvBLS8pP6qbdlUD",
      "include_colab_link": true
    },
    "kernelspec": {
      "name": "python3",
      "display_name": "Python 3"
    },
    "language_info": {
      "name": "python"
    },
    "accelerator": "GPU"
  },
  "cells": [
    {
      "cell_type": "markdown",
      "metadata": {
        "id": "view-in-github",
        "colab_type": "text"
      },
      "source": [
        "<a href=\"https://colab.research.google.com/github/srlee056/ocr_kor/blob/master/seorim.ipynb\" target=\"_parent\"><img src=\"https://colab.research.google.com/assets/colab-badge.svg\" alt=\"Open In Colab\"/></a>"
      ]
    },
    {
      "cell_type": "code",
      "metadata": {
        "colab": {
          "base_uri": "https://localhost:8080/"
        },
        "id": "vOVebQ84hA17",
        "outputId": "b2c32725-30b7-4168-a738-c5e522d835dd"
      },
      "source": [
        "!pip3 install torch==1.3.1."
      ],
      "execution_count": null,
      "outputs": [
        {
          "output_type": "stream",
          "text": [
            "Collecting torch==1.3.1.\n",
            "\u001b[?25l  Downloading https://files.pythonhosted.org/packages/f9/34/2107f342d4493b7107a600ee16005b2870b5a0a5a165bdf5c5e7168a16a6/torch-1.3.1-cp37-cp37m-manylinux1_x86_64.whl (734.6MB)\n",
            "\u001b[K     |████████████████████████████████| 734.6MB 25kB/s \n",
            "\u001b[?25hRequirement already satisfied: numpy in /usr/local/lib/python3.7/dist-packages (from torch==1.3.1.) (1.19.5)\n",
            "\u001b[31mERROR: torchvision 0.9.1+cu101 has requirement torch==1.8.1, but you'll have torch 1.3.1 which is incompatible.\u001b[0m\n",
            "\u001b[31mERROR: torchtext 0.9.1 has requirement torch==1.8.1, but you'll have torch 1.3.1 which is incompatible.\u001b[0m\n",
            "Installing collected packages: torch\n",
            "  Found existing installation: torch 1.8.1+cu101\n",
            "    Uninstalling torch-1.8.1+cu101:\n",
            "      Successfully uninstalled torch-1.8.1+cu101\n",
            "Successfully installed torch-1.3.1\n",
            "Requirement already satisfied: lmdb in /usr/local/lib/python3.7/dist-packages (0.99)\n",
            "Requirement already satisfied: pillow in /usr/local/lib/python3.7/dist-packages (7.1.2)\n",
            "Requirement already satisfied: torchvision in /usr/local/lib/python3.7/dist-packages (0.9.1+cu101)\n",
            "Requirement already satisfied: nltk in /usr/local/lib/python3.7/dist-packages (3.2.5)\n",
            "Requirement already satisfied: natsort in /usr/local/lib/python3.7/dist-packages (5.5.0)\n",
            "Collecting torch==1.8.1\n",
            "\u001b[?25l  Downloading https://files.pythonhosted.org/packages/56/74/6fc9dee50f7c93d6b7d9644554bdc9692f3023fa5d1de779666e6bf8ae76/torch-1.8.1-cp37-cp37m-manylinux1_x86_64.whl (804.1MB)\n",
            "\u001b[K     |████████████████████████████████| 804.1MB 23kB/s \n",
            "\u001b[?25hRequirement already satisfied: numpy in /usr/local/lib/python3.7/dist-packages (from torchvision) (1.19.5)\n",
            "Requirement already satisfied: six in /usr/local/lib/python3.7/dist-packages (from nltk) (1.15.0)\n",
            "Requirement already satisfied: typing-extensions in /usr/local/lib/python3.7/dist-packages (from torch==1.8.1->torchvision) (3.7.4.3)\n",
            "Installing collected packages: torch\n",
            "  Found existing installation: torch 1.3.1\n",
            "    Uninstalling torch-1.3.1:\n",
            "      Successfully uninstalled torch-1.3.1\n",
            "Successfully installed torch-1.8.1\n"
          ],
          "name": "stdout"
        }
      ]
    },
    {
      "cell_type": "code",
      "metadata": {
        "id": "zau85xdQhEj_",
        "colab": {
          "base_uri": "https://localhost:8080/"
        },
        "outputId": "2e25c14c-f4a3-44ee-8ce9-f17a2936010d"
      },
      "source": [
        "!pip3 install lmdb pillow torchvision nltk natsort fire"
      ],
      "execution_count": null,
      "outputs": [
        {
          "output_type": "stream",
          "text": [
            "Requirement already satisfied: lmdb in /usr/local/lib/python3.7/dist-packages (0.99)\n",
            "Requirement already satisfied: pillow in /usr/local/lib/python3.7/dist-packages (7.1.2)\n",
            "Requirement already satisfied: torchvision in /usr/local/lib/python3.7/dist-packages (0.9.1+cu101)\n",
            "Requirement already satisfied: nltk in /usr/local/lib/python3.7/dist-packages (3.2.5)\n",
            "Requirement already satisfied: natsort in /usr/local/lib/python3.7/dist-packages (5.5.0)\n",
            "Collecting fire\n",
            "\u001b[?25l  Downloading https://files.pythonhosted.org/packages/11/07/a119a1aa04d37bc819940d95ed7e135a7dcca1c098123a3764a6dcace9e7/fire-0.4.0.tar.gz (87kB)\n",
            "\u001b[K     |████████████████████████████████| 92kB 5.5MB/s \n",
            "\u001b[?25hRequirement already satisfied: torch==1.8.1 in /usr/local/lib/python3.7/dist-packages (from torchvision) (1.8.1)\n",
            "Requirement already satisfied: numpy in /usr/local/lib/python3.7/dist-packages (from torchvision) (1.19.5)\n",
            "Requirement already satisfied: six in /usr/local/lib/python3.7/dist-packages (from nltk) (1.15.0)\n",
            "Requirement already satisfied: termcolor in /usr/local/lib/python3.7/dist-packages (from fire) (1.1.0)\n",
            "Requirement already satisfied: typing-extensions in /usr/local/lib/python3.7/dist-packages (from torch==1.8.1->torchvision) (3.7.4.3)\n",
            "Building wheels for collected packages: fire\n",
            "  Building wheel for fire (setup.py) ... \u001b[?25l\u001b[?25hdone\n",
            "  Created wheel for fire: filename=fire-0.4.0-py2.py3-none-any.whl size=115928 sha256=acd177bcf252a2e96a52bbf335e7e7739f35b0e846d20c8909985ef54b0b7fe3\n",
            "  Stored in directory: /root/.cache/pip/wheels/af/19/30/1ea0cad502dcb4e66ed5a690279628c827aea38bbbab75d5ed\n",
            "Successfully built fire\n",
            "Installing collected packages: fire\n",
            "Successfully installed fire-0.4.0\n"
          ],
          "name": "stdout"
        }
      ]
    },
    {
      "cell_type": "markdown",
      "metadata": {
        "id": "wzhSY7jwhEtz"
      },
      "source": [
        "install pytorch and required libraries.\n"
      ]
    },
    {
      "cell_type": "code",
      "metadata": {
        "colab": {
          "base_uri": "https://localhost:8080/"
        },
        "id": "oBw-gLpBkBdb",
        "outputId": "c74e462e-13af-49a6-ef3a-ff060a87ce90"
      },
      "source": [
        "!git clone https://github.com/srlee056/ocr_kor.git"
      ],
      "execution_count": null,
      "outputs": [
        {
          "output_type": "stream",
          "text": [
            "Cloning into 'ocr_kor'...\n",
            "remote: Enumerating objects: 472, done.\u001b[K\n",
            "remote: Counting objects: 100% (4/4), done.\u001b[K\n",
            "remote: Compressing objects: 100% (3/3), done.\u001b[K\n",
            "remote: Total 472 (delta 1), reused 1 (delta 1), pack-reused 468\u001b[K\n",
            "Receiving objects: 100% (472/472), 136.39 MiB | 27.19 MiB/s, done.\n",
            "Resolving deltas: 100% (47/47), done.\n",
            "Checking out files: 100% (320/320), done.\n"
          ],
          "name": "stdout"
        }
      ]
    },
    {
      "cell_type": "code",
      "metadata": {
        "id": "LLBEcecRlUTK"
      },
      "source": [
        ""
      ],
      "execution_count": null,
      "outputs": []
    },
    {
      "cell_type": "code",
      "metadata": {
        "colab": {
          "base_uri": "https://localhost:8080/"
        },
        "id": "rYctxWCNkOIE",
        "outputId": "a2f31900-9cc6-4deb-c617-7fc67b9c44b8"
      },
      "source": [
        "ls"
      ],
      "execution_count": null,
      "outputs": [
        {
          "output_type": "stream",
          "text": [
            "\u001b[0m\u001b[01;34mocr_kor\u001b[0m/  \u001b[01;34msample_data\u001b[0m/\n"
          ],
          "name": "stdout"
        }
      ]
    },
    {
      "cell_type": "code",
      "metadata": {
        "id": "tHXZHsvKgsIy",
        "colab": {
          "base_uri": "https://localhost:8080/"
        },
        "outputId": "6aa7e631-f1ed-4676-9ddc-3eed8fe0c011"
      },
      "source": [
        "!python3 ocr_kor/data/create_lmdb_dataset.py --inputPath data/generator/TextRecognitionDataGenerator/ \\\n",
        "      --gtFile ocr_kor/data/gt_basic.txt \\\n",
        "      --outputPath ocr_kor/deep-text-recognition-benchmark/data_lmdb_release/training;"
      ],
      "execution_count": null,
      "outputs": [
        {
          "output_type": "stream",
          "text": [
            "data/generator/TextRecognitionDataGenerator/out/basic/조 응 네 제일 배 진행자 과 엄마 집단적 서울역_1.jpg does not exist\n",
            "data/generator/TextRecognitionDataGenerator/out/basic/석 댐 햄 미처 이래 거리 울리다 위쪽 발걸음 신입생_1.jpg does not exist\n",
            "data/generator/TextRecognitionDataGenerator/out/basic/뺨 전 첫 소비 지능 원래 관심사 더더욱 미스 출판사_0.jpg does not exist\n",
            "data/generator/TextRecognitionDataGenerator/out/basic/몸 곰 씨 마침 요즈음 형 외로움 잘하다 심리 교사_1.jpg does not exist\n",
            "data/generator/TextRecognitionDataGenerator/out/basic/생 때 더 인분 단순하다 부드럽다 마음씨 내외 과연 세계_4.jpg does not exist\n",
            "data/generator/TextRecognitionDataGenerator/out/basic/꽤 게 빼다 줄 잠시 대 분명히 빗방울 한가하다 폭력_0.jpg does not exist\n",
            "data/generator/TextRecognitionDataGenerator/out/basic/손 짝 매번 올 기침 옛날 식물 꾸중 근무하다 날개_1.jpg does not exist\n",
            "data/generator/TextRecognitionDataGenerator/out/basic/곰 다 석유 법 어둡다 멋있다 하루 어린아이 솔직하다 대체로_4.jpg does not exist\n",
            "data/generator/TextRecognitionDataGenerator/out/basic/끼 뭐 평균 김 개방되다 아름답다 대신 뭐 산업 연주_3.jpg does not exist\n",
            "data/generator/TextRecognitionDataGenerator/out/basic/뭐 퍽 명함 동부 쪽 수학 투표 못생기다 바늘 엉망_0.jpg does not exist\n",
            "data/generator/TextRecognitionDataGenerator/out/basic/여 털 강제 들다 석 긴급 평가되다 질문 중얼거리다 한꺼번에_0.jpg does not exist\n",
            "data/generator/TextRecognitionDataGenerator/out/basic/감 김 어디 보수 채 오른쪽 갈아타다 시들다 다툼 가까이_1.jpg does not exist\n",
            "data/generator/TextRecognitionDataGenerator/out/basic/배 색 대형 상표 수단 길 도입 송아지 전개하다 처녀_3.jpg does not exist\n",
            "data/generator/TextRecognitionDataGenerator/out/basic/퍽 옆 계란 새다 아픔 선진 턱 귀중하다 소파 소용_0.jpg does not exist\n",
            "data/generator/TextRecognitionDataGenerator/out/basic/뭐 원 음력 연령 사립 주말 실체 차림 손자 신사_1.jpg does not exist\n",
            "data/generator/TextRecognitionDataGenerator/out/basic/맛 잘 예정 시외 화장 키스 짚다 변호사 현관문 급격히_1.jpg does not exist\n",
            "data/generator/TextRecognitionDataGenerator/out/basic/박 성 동작 특징 학년 자신감 먹다 뚜껑 육체 속하다_4.jpg does not exist\n",
            "data/generator/TextRecognitionDataGenerator/out/basic/셈 성 서너 공부 백제 트이다 정말 뜨겁다 재미있다 불과_3.jpg does not exist\n",
            "data/generator/TextRecognitionDataGenerator/out/basic/바 참 지점 고기 무늬 떠나오다 파티 책임 연휴 흔히_5.jpg does not exist\n",
            "data/generator/TextRecognitionDataGenerator/out/basic/푹 모 가슴 장관 베다 지배하다 깊이 손잡다 우승 그_0.jpg does not exist\n",
            "data/generator/TextRecognitionDataGenerator/out/basic/에 게 끼다 경기 붙이다 역시 뺏다 과정 진실하다 섭씨_2.jpg does not exist\n",
            "data/generator/TextRecognitionDataGenerator/out/basic/면 곁 달걀 깔다 외로움 담임 논쟁 돌아다니다 전환하다 전달되다_2.jpg does not exist\n",
            "data/generator/TextRecognitionDataGenerator/out/basic/창 죽 공통 꽃잎 경제학 이놈 다가가다 군인 상인 나누다_3.jpg does not exist\n",
            "data/generator/TextRecognitionDataGenerator/out/basic/뭣 예 전부 예의 동물원 대낮 밤새우다 지속되다 최고급 큰길_5.jpg does not exist\n",
            "data/generator/TextRecognitionDataGenerator/out/basic/칠 생 만약 기운 수화기 관광지 만 무용 사진 적어도_4.jpg does not exist\n",
            "data/generator/TextRecognitionDataGenerator/out/basic/귤 금 서구 명칭 안녕하다 수 헤매다 생활 떠나오다 나빠지다_3.jpg does not exist\n",
            "data/generator/TextRecognitionDataGenerator/out/basic/술 적 배우 이상 달라지다 고함 절 약간 분명 임신부_1.jpg does not exist\n",
            "data/generator/TextRecognitionDataGenerator/out/basic/성 물 승부 햇빛 얘기하다 참조 쭉 새기다 다투다 어리다_1.jpg does not exist\n",
            "data/generator/TextRecognitionDataGenerator/out/basic/김 와 겨자 남녀 정확하다 두다 고향 난리 부대 배달_0.jpg does not exist\n",
            "data/generator/TextRecognitionDataGenerator/out/basic/상 욕 세대 미리 내려가다 이하 열쇠 칠하다 그려지다 뭣_1.jpg does not exist\n",
            "data/generator/TextRecognitionDataGenerator/out/basic/푹 터 목욕 만남 생활하다 제주도 국회의원 카메라 화요일 두께_1.jpg does not exist\n",
            "data/generator/TextRecognitionDataGenerator/out/basic/팬 면 항공 신규 번거롭다 감소하다 들어주다 말없이 깊이 기적_1.jpg does not exist\n",
            "data/generator/TextRecognitionDataGenerator/out/basic/도 등 관람 내놓다 원인 질 빗줄기 하얗다 과학 오늘_3.jpg does not exist\n",
            "data/generator/TextRecognitionDataGenerator/out/basic/위 쉰 일곱 없애다 이웃 그곳 초순 잠자리 멎다 밝아지다_3.jpg does not exist\n",
            "data/generator/TextRecognitionDataGenerator/out/basic/면 한 차창 기울다 일곱 팔리다 고객 땜 쩔쩔매다 부지런히_1.jpg does not exist\n",
            "data/generator/TextRecognitionDataGenerator/out/basic/사 쪽 불만 마사지 숨지다 업체 선생님 군인 깨어지다 깜빡_2.jpg does not exist\n",
            "data/generator/TextRecognitionDataGenerator/out/basic/주 한 생기 뛰놀다 다루다 해안 생활수준 부회장 넘치다 걔_0.jpg does not exist\n",
            "data/generator/TextRecognitionDataGenerator/out/basic/해 이 침대 우체국 순진하다 킬로미터 조각 방울 서투르다 일단_10.jpg does not exist\n",
            "data/generator/TextRecognitionDataGenerator/out/basic/탑 채 성적 입사하다 내리다 덮이다 즐겁다 투자 스트레스 컨디션_0.jpg does not exist\n",
            "data/generator/TextRecognitionDataGenerator/out/basic/개 삶 확신 찾아내다 통일하다 돼지 이동 짜다 복습하다 언젠가_3.jpg does not exist\n",
            "data/generator/TextRecognitionDataGenerator/out/basic/예 건 내다 알아보다 오르내리다 샌드위치 일회용 해안 공중 겁_0.jpg does not exist\n",
            "data/generator/TextRecognitionDataGenerator/out/basic/뭘 싹 쓰이다 한 경계 운명 저리 빠르다 돌멩이 자리_4.jpg does not exist\n",
            "data/generator/TextRecognitionDataGenerator/out/basic/리 질 닫히다 옆 연구 무슨 배드민턴 급 결정하다 서너_0.jpg does not exist\n",
            "data/generator/TextRecognitionDataGenerator/out/basic/성 권 어렵다 처리 생 밀다 재우다 지위 초반 긍정적_2.jpg does not exist\n",
            "data/generator/TextRecognitionDataGenerator/out/basic/꽤 맨 노랗다 생각 되게 코피 올 정리 올리다 주민_2.jpg does not exist\n",
            "data/generator/TextRecognitionDataGenerator/out/basic/너 등 연구자 대중 버터 인사 벌 그래픽 중계방송 부처_2.jpg does not exist\n",
            "data/generator/TextRecognitionDataGenerator/out/basic/극 죽 얼마간 좌우 왼손 오래도록 여성 서민 이틀 즉_1.jpg does not exist\n",
            "data/generator/TextRecognitionDataGenerator/out/basic/입 오 죽이다 포함 증명하다 초 언젠가 도구 증명하다 십이월_2.jpg does not exist\n",
            "data/generator/TextRecognitionDataGenerator/out/basic/군 잔 세우다 제도적 보다 마구 불완전하다 일 초대 거듭_2.jpg does not exist\n",
            "data/generator/TextRecognitionDataGenerator/out/basic/푹 턱 흘리다 기대다 킬로미터 슈퍼마켓 볼일 전부 녹음 활용하다_0.jpg does not exist\n",
            "data/generator/TextRecognitionDataGenerator/out/basic/통 초 종교적 그사이 긴장하다 질문하다 어쩌다가 결과적 맞다 사진기_1.jpg does not exist\n",
            "data/generator/TextRecognitionDataGenerator/out/basic/약 삶 부동산 지배하다 범죄 싸다 가수 부자 돕다 모처럼_0.jpg does not exist\n",
            "data/generator/TextRecognitionDataGenerator/out/basic/곡 섬 교과서 허용되다 당시 빛나다 총 두드러지다 십이월 종종_3.jpg does not exist\n",
            "data/generator/TextRecognitionDataGenerator/out/basic/양 안 계산기 넘어오다 맞은편 편 굵다 팩 육체 산_1.jpg does not exist\n",
            "data/generator/TextRecognitionDataGenerator/out/basic/한 코 그다지 두드러지다 입사 방송 쓰레기통 가로수 상자 포함하다_0.jpg does not exist\n",
            "data/generator/TextRecognitionDataGenerator/out/basic/밑 콩 그제서야 치료 콩나물 후 농담 담그다 형사 호박_4.jpg does not exist\n",
            "data/generator/TextRecognitionDataGenerator/out/basic/용 법 수리하다 지방 그토록 통 낫다 출발점 일회용 대접하다_1.jpg does not exist\n",
            "data/generator/TextRecognitionDataGenerator/out/basic/답 옆 신혼부부 발견 캄캄하다 인터뷰 결정하다 소풍 장애인 소화_0.jpg does not exist\n",
            "data/generator/TextRecognitionDataGenerator/out/basic/그 각 필요하다 외로움 내부 창구 탁 탁구 경쟁 유리하다_2.jpg does not exist\n",
            "data/generator/TextRecognitionDataGenerator/out/basic/게 쪽 달려들다 하느님 여관 통과 끊다 야옹 과학 나들이_2.jpg does not exist\n",
            "data/generator/TextRecognitionDataGenerator/out/basic/북 부 고려하다 그렇다 세대 접근하다 실시되다 외국 정비 가로_0.jpg does not exist\n",
            "data/generator/TextRecognitionDataGenerator/out/basic/틀 왜 신혼여행 볶음밥 이미지 년 까만색 들이켜다 덧붙이다 소파_3.jpg does not exist\n",
            "data/generator/TextRecognitionDataGenerator/out/basic/떼 겁 두드러지다 요청 아뇨 중순 원피스 영화관 그저께 곳_1.jpg does not exist\n",
            "data/generator/TextRecognitionDataGenerator/out/basic/빵 시 끌어당기다 반복되다 벌어지다 소설가 치다 타다 묻히다 도입_1.jpg does not exist\n",
            "data/generator/TextRecognitionDataGenerator/out/basic/절 식탁 건 땀 떼 해 당신 심하다 임시 저울_1.jpg does not exist\n",
            "data/generator/TextRecognitionDataGenerator/out/basic/길 근본 수 댐 기혼 기대되다 깜짝 칠판 일일이 검사_2.jpg does not exist\n",
            "data/generator/TextRecognitionDataGenerator/out/basic/여 언덕 옷 용어 미터 취직 차라리 섞다 삶다 번역하다_3.jpg does not exist\n",
            "data/generator/TextRecognitionDataGenerator/out/basic/야 녀석 칠 우편 변신 정리 안녕히 전문점 다 그런데_2.jpg does not exist\n",
            "data/generator/TextRecognitionDataGenerator/out/basic/손 당시 위 작년 도중 마중 살아가다 한마디 통화 거의_5.jpg does not exist\n",
            "data/generator/TextRecognitionDataGenerator/out/basic/일 면적 꽃 배우 가톨릭 일반 방지 축하 세기 장례식_2.jpg does not exist\n",
            "data/generator/TextRecognitionDataGenerator/out/basic/후 과거 춤 화살 카운터 피곤 확립하다 납득하다 이곳저곳 들이다_2.jpg does not exist\n",
            "data/generator/TextRecognitionDataGenerator/out/basic/흙 짜다 무 재학 전공하다 흐리다 짜증 공개 달려들다 그리_1.jpg does not exist\n",
            "data/generator/TextRecognitionDataGenerator/out/basic/저 시도 옆 예습 지배하다 덩어리 상당히 종교적 노란색 떠나오다_0.jpg does not exist\n",
            "data/generator/TextRecognitionDataGenerator/out/basic/층 고작 시 오래전 살 싫어하다 외할머니 사용되다 벌레 강도_0.jpg does not exist\n",
            "data/generator/TextRecognitionDataGenerator/out/basic/쌍 상대 안 남학생 달다 다 횡단보도 말다 펴다 화요일_0.jpg does not exist\n",
            "data/generator/TextRecognitionDataGenerator/out/basic/차 소속 판 작은딸 어디 출근 손가락 하느님 존중하다 체육관_3.jpg does not exist\n",
            "data/generator/TextRecognitionDataGenerator/out/basic/총 전개 권 개구리 모범 사랑스럽다 자기 제한되다 묻히다 대_0.jpg does not exist\n",
            "data/generator/TextRecognitionDataGenerator/out/basic/좀 계란 곳 무관심 연구실 메뉴 힘차다 속삭이다 사실 사춘기_2.jpg does not exist\n",
            "data/generator/TextRecognitionDataGenerator/out/basic/늘 배꼽 리 이력서 대규모 그리하여 입원하다 바닷가 내다보다 슬그머니_3.jpg does not exist\n",
            "data/generator/TextRecognitionDataGenerator/out/basic/곡 채소 팔 입학하다 흑인 위 빼놓다 합격 타자기 낮추다_3.jpg does not exist\n",
            "data/generator/TextRecognitionDataGenerator/out/basic/옷 묻다 담 적당하다 고모 적다 달력 곱다 티브이 절약하다_3.jpg does not exist\n",
            "data/generator/TextRecognitionDataGenerator/out/basic/병 갖다 몇 이러하다 수천 한낮 울음 찍히다 국가 맞다_0.jpg does not exist\n",
            "data/generator/TextRecognitionDataGenerator/out/basic/죄 엉망 죽 망설이다 세탁소 촛불 일부 셋 변화 평양_1.jpg does not exist\n",
            "data/generator/TextRecognitionDataGenerator/out/basic/뒤 방학 곡 사이사이 변호사 지나가다 부위 숨 졸리다 진출하다_4.jpg does not exist\n",
            "data/generator/TextRecognitionDataGenerator/out/basic/층 가령 지위 거 열 혈액 일반적 보관하다 소중하다 서랍_3.jpg does not exist\n",
            "data/generator/TextRecognitionDataGenerator/out/basic/집 저축 특급 막 덕 이래서 통로 사실상 모으다 연주_2.jpg does not exist\n",
            "data/generator/TextRecognitionDataGenerator/out/basic/틀 허락 수필 하 딱 지배하다 불교 휴식 신문사 볼링_3.jpg does not exist\n",
            "data/generator/TextRecognitionDataGenerator/out/basic/섬 고개 야옹 간 분리 역 요즈음 아유 쓰다듬다 아주_4.jpg does not exist\n",
            "data/generator/TextRecognitionDataGenerator/out/basic/알 약국 피로 쪽 마을 종 흔들다 개구리 내년 아시아_2.jpg does not exist\n",
            "data/generator/TextRecognitionDataGenerator/out/basic/원 바퀴 시도 것 양보 잔디 분리하다 깨소금 물질 대략_0.jpg does not exist\n",
            "data/generator/TextRecognitionDataGenerator/out/basic/과 버섯 실태 한 세계 중단되다 자세 붙이다 시댁 함께하다_0.jpg does not exist\n",
            "data/generator/TextRecognitionDataGenerator/out/basic/맘 붉다 흰색 개 천장 줄어들다 연두색 무용 허가 매달리다_0.jpg does not exist\n",
            "data/generator/TextRecognitionDataGenerator/out/basic/음 연기 저것 방 신체적 꼭 여권 얘기 고장 재산_1.jpg does not exist\n",
            "data/generator/TextRecognitionDataGenerator/out/basic/정 호흡 연결 팀 태우다 먹다 전부 되풀이되다 신 유적지_0.jpg does not exist\n",
            "data/generator/TextRecognitionDataGenerator/out/basic/만 나이 연필 쪽 잠자리 문득 섭섭하다 시작되다 제약 지내다_1.jpg does not exist\n",
            "data/generator/TextRecognitionDataGenerator/out/basic/부 년도 시도 해 논하다 방바닥 악수 형식 듯싶다 잊다_0.jpg does not exist\n",
            "data/generator/TextRecognitionDataGenerator/out/basic/개 보도 짜증 짓 뿌리다 합격하다 흙 변하다 자유 동_1.jpg does not exist\n",
            "data/generator/TextRecognitionDataGenerator/out/basic/해 뽑다 지진 짓 칭찬하다 손질 장군 지난달 담그다 돌_0.jpg does not exist\n",
            "data/generator/TextRecognitionDataGenerator/out/basic/종 인분 뜻밖 듯 몰려오다 각자 다양하다 비교적 승리하다 웬_3.jpg does not exist\n",
            "data/generator/TextRecognitionDataGenerator/out/basic/식 식물 여건 선 생활하다 기숙사 식품 자살 다소 비_3.jpg does not exist\n",
            "Created dataset with 0 samples\n"
          ],
          "name": "stdout"
        }
      ]
    },
    {
      "cell_type": "markdown",
      "metadata": {
        "id": "IwJZVS0niMwe"
      },
      "source": [
        "create imdb dataset"
      ]
    },
    {
      "cell_type": "code",
      "metadata": {
        "id": "KAsiCps2g0q5"
      },
      "source": [
        "!CUDA_VISIBLE_DEVICES=0 python3 deep-text-recognition-benchmark/train.py \\ \n",
        "                                          --train_data data/data_lmdb_release/training \\\n",
        "                                          --valid_data data/data_lmdb_release/validation \\\n",
        "                                          --select_data basic-skew --batch_ratio 0.5-0.5 \\\n",
        "                                          --Transformation TPS \\\n",
        "                                          --FeatureExtraction VGG \\\n",
        "                                          --SequenceModeling None \\\n",
        "                                          --Prediction Attn \\\n",
        "                                          --data_filtering_off \\ \n",
        "                                          --batch_max_length 50 \\\n",
        "                                          --workers 4;\n",
        "\n",
        "!CUDA_VISIBLE_DEVICES=0 python3 deep-text-recognition-benchmark/test.py \\\n",
        "                        --eval_data data/data_lmdb_release/evaluation \\ \n",
        "                        --benchmark_all_eval \\\n",
        "                        --Transformation TPS \\\n",
        "                        --FeatureExtraction VGG \\ \n",
        "                        --SequenceModeling None \\\n",
        "                        --Prediction Attn \\\n",
        "                        --saved_model saved_models/TPS-VGG-None-Attn-Seed1111/best_accuracy.pth \\\n",
        "                        --data_filtering_off \\\n",
        "                        --workers 4;"
      ],
      "execution_count": null,
      "outputs": []
    },
    {
      "cell_type": "code",
      "metadata": {
        "id": "oxSyZ7Tgg3VL"
      },
      "source": [
        " CUDA_VISIBLE_DEVICES=0 python3 deep-text-recognition-benchmark/demo.py \\\n",
        "                        --Transformation TPS --FeatureExtraction VGG --SequenceModeling BiLSTM --Prediction Attn \\\n",
        "                        --image_folder data/demo_image/ \\\n",
        "                        --saved_model deep-text-recognition-benchmark/saved_models/TPS-VGG-BiLSTM-Attn-Seed9998/best_accuracy.pth;        "
      ],
      "execution_count": null,
      "outputs": []
    }
  ]
}